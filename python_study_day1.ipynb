{
 "cells": [
  {
   "cell_type": "markdown",
   "id": "cb24b78e",
   "metadata": {},
   "source": [
    "### 1. 숫자 자료형"
   ]
  },
  {
   "cell_type": "code",
   "execution_count": 9,
   "id": "5af6cc56",
   "metadata": {},
   "outputs": [
    {
     "name": "stdout",
     "output_type": "stream",
     "text": [
      "5\n",
      "-10\n",
      "3.14\n",
      "1000\n",
      "8\n",
      "10\n",
      "32\n",
      "15\n"
     ]
    }
   ],
   "source": [
    "print(5)\n",
    "print(-10)\n",
    "print(3.14)\n",
    "print(1000)\n",
    "print(5+3)\n",
    "print(2*5)\n",
    "print(2**5)\n",
    "print(3*(4+1))"
   ]
  },
  {
   "cell_type": "markdown",
   "id": "2374281e",
   "metadata": {},
   "source": [
    "### 2. 문자 자료형"
   ]
  },
  {
   "cell_type": "code",
   "execution_count": 13,
   "id": "2ba9c73f",
   "metadata": {},
   "outputs": [
    {
     "name": "stdout",
     "output_type": "stream",
     "text": [
      "풍선\n",
      "나비\n",
      "ㅋㅋㅋㅋ\n",
      "ㅋㅋㅋㅋㅋㅋㅋㅋㅋ\n"
     ]
    }
   ],
   "source": [
    "print('풍선')\n",
    "print(\"나비\")\n",
    "print(\"ㅋㅋㅋㅋ\")\n",
    "print(\"ㅋ\"*9)"
   ]
  },
  {
   "cell_type": "markdown",
   "id": "9a4ac37a",
   "metadata": {},
   "source": [
    "### 3. boolean ( True or False )"
   ]
  },
  {
   "cell_type": "code",
   "execution_count": 20,
   "id": "92ba3579",
   "metadata": {},
   "outputs": [
    {
     "name": "stdout",
     "output_type": "stream",
     "text": [
      "False\n",
      "True\n",
      "False\n",
      "False\n",
      "True\n"
     ]
    }
   ],
   "source": [
    "print(5>6)\n",
    "print(True)\n",
    "print(False)\n",
    "print(not True)\n",
    "print(not (5>10))"
   ]
  },
  {
   "cell_type": "markdown",
   "id": "21526f4f",
   "metadata": {},
   "source": [
    "### 4. 변수"
   ]
  },
  {
   "cell_type": "code",
   "execution_count": 31,
   "id": "544f17d6",
   "metadata": {},
   "outputs": [
    {
     "name": "stdout",
     "output_type": "stream",
     "text": [
      "우리집 고양이의 이름은 해피에요.\n",
      "해피 는  4 살이며, 공놀이 을 좋아합니다.\n",
      "해피는 어른일까요? True\n"
     ]
    }
   ],
   "source": [
    "# 애완동물을 소개해주세요~\n",
    "\n",
    "name = '해피'\n",
    "animal = '고양이'\n",
    "age = 4\n",
    "hobby = '낮잠'\n",
    "is_adult = age >= 3\n",
    "\n",
    "print('우리집 ' + animal + '의 이름은 ' + name + '에요.')\n",
    "hobby = '공놀이'\n",
    "print(name, '는 ' ,age, '살이며,' ,hobby,'을 좋아합니다.')\n",
    "# print(name +'는 ' + str(age) +'살이며,' + hobby +'을 좋아합니다.')\n",
    "print(name +'는 어른일까요? ' + str(is_adult))"
   ]
  },
  {
   "cell_type": "markdown",
   "id": "09dafb9f",
   "metadata": {},
   "source": [
    "### 5. 주석"
   ]
  },
  {
   "cell_type": "code",
   "execution_count": 36,
   "id": "54468b1a",
   "metadata": {},
   "outputs": [],
   "source": [
    "# 이렇게 하면 여러 문장이 주석처리 됩니다\n",
    "# cntl + /"
   ]
  },
  {
   "cell_type": "markdown",
   "id": "e402b742",
   "metadata": {},
   "source": [
    "### 6. 퀴즈"
   ]
  },
  {
   "cell_type": "code",
   "execution_count": 39,
   "id": "d70d9ed6",
   "metadata": {},
   "outputs": [
    {
     "name": "stdout",
     "output_type": "stream",
     "text": [
      "사당 행 열차가 들어오고 있습니다.\n",
      "신도림 행 열차가 들어오고 있습니다.\n",
      "인천공항 행 열차가 들어오고 있습니다.\n"
     ]
    }
   ],
   "source": [
    "station1 = '사당'\n",
    "station2 = '신도림'\n",
    "station3 = '인천공항'\n",
    "\n",
    "print(station1, '행 열차가 들어오고 있습니다.')\n",
    "print(station2, '행 열차가 들어오고 있습니다.')\n",
    "print(station3, '행 열차가 들어오고 있습니다.')"
   ]
  },
  {
   "cell_type": "markdown",
   "id": "50e4a251",
   "metadata": {},
   "source": [
    "### 7. 연산자"
   ]
  },
  {
   "cell_type": "code",
   "execution_count": 69,
   "id": "b95fb371",
   "metadata": {},
   "outputs": [
    {
     "name": "stdout",
     "output_type": "stream",
     "text": [
      "2\n",
      "1\n",
      "10\n",
      "2.0\n",
      "8\n",
      "2\n",
      "1\n",
      "False\n",
      "True\n",
      "True\n",
      "True\n",
      "False\n",
      "True\n",
      "False\n",
      "False\n",
      "True\n",
      "True\n",
      "True\n",
      "True\n",
      "True\n",
      "False\n"
     ]
    }
   ],
   "source": [
    "print(1+1)\n",
    "print(3-2)\n",
    "print(5*2)\n",
    "print(6/3)\n",
    "print(2**3) # 제곱\n",
    "print(5%3) # 나머지\n",
    "print(5//3) # 몫\n",
    "print(10 < 3)\n",
    "print(4 <= 7)\n",
    "print(4 <= 4)\n",
    "print(3 == 3) # 앞의 값과 뒤의 값이 같다 \n",
    "print(4 == 2)\n",
    "print(3+4+5 == 12)\n",
    "\n",
    "print(3 != 3) # 앞의 값과 뒤의 값이 같지 않다\n",
    "print(not(1!=4))\n",
    "print((3>0) and (3<5))\n",
    "print((3>0) & (3<5))\n",
    "\n",
    "print((3>0) or (3>5)) # 둘 중 하나라도 맞으면 True 반환\n",
    "print((3>0) | (3>5))\n",
    "\n",
    "print((5>4 >3))\n",
    "print(5>4>7)"
   ]
  },
  {
   "cell_type": "markdown",
   "id": "82132a34",
   "metadata": {},
   "source": [
    "### 8. 수식"
   ]
  },
  {
   "cell_type": "code",
   "execution_count": 84,
   "id": "0799c9bd",
   "metadata": {},
   "outputs": [
    {
     "name": "stdout",
     "output_type": "stream",
     "text": [
      "14\n",
      "20\n",
      "14\n",
      "16\n",
      "18\n",
      "36\n",
      "34\n",
      "17.0\n",
      "2.0\n"
     ]
    }
   ],
   "source": [
    "print(2+3*4)\n",
    "print((2+3)*4)\n",
    "number = 2+3*4\n",
    "print(number)\n",
    "number = number + 2\n",
    "print(number)\n",
    "\n",
    "number += 2\n",
    "print(number)\n",
    "number *= 2\n",
    "print(number)\n",
    "number -= 2 \n",
    "print(number)\n",
    "number /=2 \n",
    "print(number)\n",
    "number %= 5\n",
    "print(number)"
   ]
  },
  {
   "cell_type": "markdown",
   "id": "b033d664",
   "metadata": {},
   "source": [
    "### 9. 숫자처리함수"
   ]
  },
  {
   "cell_type": "code",
   "execution_count": 96,
   "id": "41686117",
   "metadata": {},
   "outputs": [
    {
     "name": "stdout",
     "output_type": "stream",
     "text": [
      "5\n",
      "16.0\n",
      "12\n",
      "1\n",
      "3\n",
      "4\n",
      "5\n",
      "4.0\n"
     ]
    }
   ],
   "source": [
    "print(abs(-5))\n",
    "print(pow(4,2)) # 승\n",
    "print(max(5,12)) # max\n",
    "print(min(1,3)) # min\n",
    "print(round(3.25)) # 반올림\n",
    "\n",
    "from math import * # math라이브러리의 모든 패키지를 쓰겠다\n",
    "print(floor(4.555)) # 내림\n",
    "print(ceil(4.55)) # 올림\n",
    "print(sqrt(16)) # 제곱근"
   ]
  },
  {
   "cell_type": "markdown",
   "id": "41d43fe7",
   "metadata": {},
   "source": [
    "### 10. 랜덤함수"
   ]
  },
  {
   "cell_type": "code",
   "execution_count": 98,
   "id": "f2806ce8",
   "metadata": {},
   "outputs": [],
   "source": [
    "from random import *"
   ]
  },
  {
   "cell_type": "code",
   "execution_count": 149,
   "id": "01d4e8e3",
   "metadata": {},
   "outputs": [
    {
     "name": "stdout",
     "output_type": "stream",
     "text": [
      "0.3694716253709982\n",
      "8.915123864698474\n",
      "2\n",
      "5\n",
      "43\n",
      "3\n",
      "3\n",
      "31\n"
     ]
    }
   ],
   "source": [
    "print(random()) # 0과 1사이 임의의 값을 생성\n",
    "print(random()*10) # 0과 10사이의 값을 생성\n",
    "print(int(random()*10)) # 0과 10 사이의 정수값을 생성\n",
    "print(int(random()*10) +1 ) # 1 ~ 10 이하의 임의의 값을 생성\n",
    "\n",
    "# 로또값 출력\n",
    "print(int(random()*45) +1)\n",
    "print(randrange(1,45)) # 1~ 45 미만의 임의의 값을 생성\n",
    "print(randrange(1,46))\n",
    "print(randint(1,45)) # 1~45 이하의 값을 생성"
   ]
  },
  {
   "cell_type": "markdown",
   "id": "ac8cebef",
   "metadata": {},
   "source": [
    "### 11. 퀴즈"
   ]
  },
  {
   "cell_type": "code",
   "execution_count": 165,
   "id": "c0f4c563",
   "metadata": {},
   "outputs": [
    {
     "name": "stdout",
     "output_type": "stream",
     "text": [
      "오프라인 스터디 모임 일자는 매월 7 일로 선정되었습니다\n"
     ]
    }
   ],
   "source": [
    "# 3번은 온라인 1번은 오프라인\n",
    "# 조건 1 : 랜덤으로 날짜\n",
    "# 조건 2 : 월별 날짜는 다름을 감안하여 28이내로 정함\n",
    "# 조건 3 : 매월 1~3일은 스터디 준비 제외\n",
    "\n",
    "# 오프라인 스터티 모임 날짜는 매월 x일로 선정되었습니다.\n",
    "from random import *\n",
    "\n",
    "date = randint(4,28)\n",
    "print('오프라인 스터디 모임 일자는 매월', date, '일로 선정되었습니다')"
   ]
  },
  {
   "cell_type": "markdown",
   "id": "55af7f02",
   "metadata": {},
   "source": [
    "### 12. 문자열"
   ]
  },
  {
   "cell_type": "code",
   "execution_count": 172,
   "id": "729bbab5",
   "metadata": {},
   "outputs": [
    {
     "name": "stdout",
     "output_type": "stream",
     "text": [
      "나는 소년입니다\n",
      "파이썬은 쉬워요\n",
      "나는 소년이고 파이썬은 쉬워요\n"
     ]
    }
   ],
   "source": [
    "sentence = '나는 소년입니다'\n",
    "print(sentence)\n",
    "sentence1 = \"파이썬은 쉬워요\"\n",
    "print(sentence1)\n",
    "sentence2 = '''나는 소년이고 파이썬은 쉬워요'''\n",
    "print(sentence2)"
   ]
  },
  {
   "cell_type": "markdown",
   "id": "1b07392e",
   "metadata": {},
   "source": [
    "### 13. 슬라이싱"
   ]
  },
  {
   "cell_type": "code",
   "execution_count": 184,
   "id": "c064a1b1",
   "metadata": {},
   "outputs": [
    {
     "name": "stdout",
     "output_type": "stream",
     "text": [
      "성별 :  1\n",
      "연도 :  99\n",
      "월 :  01\n",
      "일 :  23\n",
      "생년월일 :  990123\n",
      "생년월일 :  990123\n",
      "뒤 7자리 :  1234567\n",
      "뒤 7자리 :  1234567\n",
      "뒤 7자리 : (뒤에서부터) 1234567\n"
     ]
    }
   ],
   "source": [
    "jumin = '990123-1234567'\n",
    "print(\"성별 : \" , jumin[7])\n",
    "print(\"연도 : \", jumin[0:2]) # 0부터 2 직전까지 (0,1) 값만 가져온다\n",
    "print(\"월 : \", jumin[2:4]) # 2부터 4직전까지 값을 가져온다\n",
    "print(\"일 : \", jumin[4:6])\n",
    "print(\"생년월일 : \", jumin[0:6])\n",
    "print(\"생년월일 : \", jumin[:6]) # 처음부터 6직전까지\n",
    "print(\"뒤 7자리 : \", jumin[7:14])\n",
    "print(\"뒤 7자리 : \", jumin[7:])\n",
    "print(\"뒤 7자리 : (뒤에서부터)\", jumin[-7:]) # 뒤는 -1부터 시작, 앞은 0부터 시작"
   ]
  },
  {
   "cell_type": "markdown",
   "id": "ab243a68",
   "metadata": {},
   "source": [
    "### 14. 문자열 처리 함수"
   ]
  },
  {
   "cell_type": "code",
   "execution_count": 202,
   "id": "fbf0df56",
   "metadata": {},
   "outputs": [
    {
     "name": "stdout",
     "output_type": "stream",
     "text": [
      "python is amazing\n",
      "PYTHON IS AMAZING\n",
      "True\n",
      "17\n",
      "java is Amazing\n",
      "5\n",
      "15\n",
      "-1\n",
      "2\n"
     ]
    }
   ],
   "source": [
    "python = 'Python is Amazing'\n",
    "print(python.lower()) # 소문자\n",
    "print(python.upper()) # 대문자\n",
    "print(python[0].isupper()) #대문자임?\n",
    "print(len(python)) # 길이 반환\n",
    "print(python.replace(\"Python\",\"java\")) # 문자 변환\n",
    "index = python.index(\"n\")\n",
    "print(index)\n",
    "index = python.index(\"n\", index + 1) # index(\"문자\", 시작위치)\n",
    "print(index)\n",
    "print(python.find(\"java\")) #  find는 값이 포함되지 않는 경우 -1 반환\n",
    "# print(python.index(\"java\")) # index의 경우에는 오류 발생 \n",
    "print(python.count(\"n\")) # 문자가 몇번 나왔는지 카운트"
   ]
  },
  {
   "cell_type": "markdown",
   "id": "c7ab5943",
   "metadata": {},
   "source": [
    "### 15. 문자열 포맷"
   ]
  },
  {
   "cell_type": "code",
   "execution_count": 222,
   "id": "951e9e4f",
   "metadata": {},
   "outputs": [
    {
     "name": "stdout",
     "output_type": "stream",
     "text": [
      "나는 20살입니다.\n",
      "나는 python을 좋아합니다.\n",
      "Apple 은 A로 시작해요.\n",
      "나는 검정색과 파랑색을 좋아해요.\n",
      "나는 20살입니다.\n",
      "나는 파란색과 검정색을 좋아해요.\n",
      "나는 파란색과 검정색을 좋아해요.\n",
      "나는 검정색과 파란색을 좋아해요.\n",
      "나는 20살이며 빨강색을 좋아해요.\n",
      "나는 빨강살이며 20색을 좋아해요.\n",
      "나는 20살이며, 빨강색을 좋아해요.\n"
     ]
    }
   ],
   "source": [
    "# 방법1\n",
    "print(\"나는 %d살입니다.\" % 20) # %뒤의 값을 받아옴 d는 정수만 입력가능\n",
    "print(\"나는 %s을 좋아합니다.\" % \"python\") # %뒤의 값을 받아옴 s는 문자\n",
    "print(\"Apple 은 %c로 시작해요.\" % \"A\") # C 는 문자1개를 받아옴\n",
    "# 보통 %S로 다 커버 가능\n",
    "\n",
    "print(\"나는 %s색과 %s색을 좋아해요.\" % (\"검정\",\"파랑\")) # 괄호로 2개의 값을 가져올 수 있음\n",
    "\n",
    "# 방법2\n",
    "print(\"나는 {}살입니다.\".format(20)) # 중괄호의 경우 format을 사용해서 값을 입력\n",
    "print(\"나는 {}색과 {}색을 좋아해요.\".format(\"파란\",\"검정\"))\n",
    "print(\"나는 {0}색과 {1}색을 좋아해요.\".format(\"파란\",\"검정\"))\n",
    "print(\"나는 {1}색과 {0}색을 좋아해요.\".format(\"파란\",\"검정\"))\n",
    "\n",
    "# 방법3\n",
    "print(\"나는 {age}살이며 {color}색을 좋아해요.\".format(age = 20, color=\"빨강\"))\n",
    "print(\"나는 {color}살이며 {age}색을 좋아해요.\".format(age = 20, color=\"빨강\"))\n",
    "\n",
    "# 방법4\n",
    "age = 20\n",
    "color = \"빨강\"\n",
    "print(f\"나는 {age}살이며, {color}색을 좋아해요.\") # python v 3.4 이상 가능"
   ]
  },
  {
   "cell_type": "markdown",
   "id": "984c16f9",
   "metadata": {},
   "source": [
    "### 16. 탈출문자"
   ]
  },
  {
   "cell_type": "code",
   "execution_count": 239,
   "id": "3ced27a8",
   "metadata": {},
   "outputs": [
    {
     "name": "stdout",
     "output_type": "stream",
     "text": [
      "저는 \"나도코딩\"입니다.\n",
      "저는 \"나도코딩\" 입니다.\n",
      "Red Apple\r",
      "Pine\n",
      "Redd\bApple\n",
      "Red\tApple\n"
     ]
    }
   ],
   "source": [
    "print('저는 \"나도코딩\"입니다.')\n",
    "print(\"저는 \\\"나도코딩\\\" 입니다.\")\n",
    "\n",
    "# \\\\ : 문장내에서 하나로 인식\n",
    "# \\r 커서를 맨앞으로 이동\n",
    "print(\"Red Apple\\rPine\") # 맨앞으로 이동해서 Red 공백만큼 자리 차지\n",
    "# \\b : 백스페이스(한글자 삭제)\n",
    "print(\"Redd\\bApple\")\n",
    "# \\t : 탭\n",
    "print(\"Red\\tApple\")"
   ]
  },
  {
   "cell_type": "markdown",
   "id": "0b3a07ef",
   "metadata": {},
   "source": [
    "### 17. 퀴즈"
   ]
  },
  {
   "cell_type": "code",
   "execution_count": 256,
   "id": "3506d4d5",
   "metadata": {},
   "outputs": [
    {
     "name": "stdout",
     "output_type": "stream",
     "text": [
      "naver.com\n",
      "nav51!\n",
      "http://naver.com의 비밀번호는 nav51!입니다.\n"
     ]
    }
   ],
   "source": [
    "# 사이트별 비번 생성\n",
    "# http://naver.com\n",
    "# 규칙 1 : http:// 부분은 제외 => naver.com\n",
    "# 규칙 2 : 처음 만나는 점(.) 이후 부분은 제외 => naver\n",
    "# 규칙 3 :  남은 글자 중 처음 세자리 + 글자갯수 + 글자내 'e'; 갯수 + \"!\"로 구성\n",
    "# 예 :  생성된 비밀번호 - nav51!\n",
    "\n",
    "site = \"http://naver.com\"\n",
    "my_str = site.replace(\"http://\", \"\") # replace로 문자열 대체 \n",
    "print(my_str)\n",
    "my_str = my_str[:my_str.index(\".\")] # 숫자 대신 index로 \".\"의 위치 반환\n",
    "password = my_str[:3]+str(len(my_str))+str(my_str.count(\"e\"))+\"!\"\n",
    "print(password)\n",
    "print(\"{0}의 비밀번호는 {1}입니다.\".format(site, password))"
   ]
  }
 ],
 "metadata": {
  "kernelspec": {
   "display_name": "Python 3",
   "language": "python",
   "name": "python3"
  },
  "language_info": {
   "codemirror_mode": {
    "name": "ipython",
    "version": 3
   },
   "file_extension": ".py",
   "mimetype": "text/x-python",
   "name": "python",
   "nbconvert_exporter": "python",
   "pygments_lexer": "ipython3",
   "version": "3.8.2"
  }
 },
 "nbformat": 4,
 "nbformat_minor": 5
}
